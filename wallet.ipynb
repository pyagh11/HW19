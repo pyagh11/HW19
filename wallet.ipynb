{
 "cells": [
  {
   "cell_type": "code",
   "execution_count": 94,
   "metadata": {},
   "outputs": [
    {
     "data": {
      "text/plain": [
       "str"
      ]
     },
     "execution_count": 94,
     "metadata": {},
     "output_type": "execute_result"
    }
   ],
   "source": [
    "# Import dependencies\n",
    "import subprocess\n",
    "import os\n",
    "import json\n",
    "from dotenv import load_dotenv\n",
    "\n",
    "# Load and set environment variables\n",
    "#load_dotenv()\n",
    "#mnemonic=os.getenv(\"mnemonic\")\n",
    "\n",
    "load_dotenv(\"MY_Keys.env\")\n",
    "mnemonic = os.getenv(\"mnemonic\")\n",
    "type(mnemonic)"
   ]
  },
  {
   "cell_type": "code",
   "execution_count": 98,
   "metadata": {},
   "outputs": [],
   "source": [
    "# Import constants.py and necessary functions from bit and web3\n",
    "# YOUR CODE HERE\n",
    "\n",
    "from constants import *\n",
    "from bit import Key, PrivateKey, PrivateKeyTestnet\n",
    "from bit.network import NetworkAPI\n",
    "from bit import *\n",
    "from web3 import Web3\n",
    "from eth_account import Account  \n",
    "w3 = Web3(Web3.HTTPProvider(\"http://127.0.0.1:8545\"))\n",
    "\n",
    "# Create a function called `derive_wallets`\n",
    "def derive_wallets(mnemonic, coin, numderive=3):\n",
    "    command = f'php ./derive -g --mnemonic=\"{mnemonic}\" --cols=path,address,privkey,pubkey --numderive=\"{numderive}\" --coin=\"{coin}\" --format=json'\n",
    "    p = subprocess.Popen(command, stdout=subprocess.PIPE, shell=True)\n",
    "    output, err = p.communicate()\n",
    "    p_status = p.wait()\n",
    "    keys = json.loads(output)\n",
    "    return keys"
   ]
  },
  {
   "cell_type": "code",
   "execution_count": 99,
   "metadata": {},
   "outputs": [
    {
     "data": {
      "text/plain": [
       "[{'path': \"m/44'/60'/0'/0/0\",\n",
       "  'address': '0xeb98d98b858DAfa51d75c1182ed03d836057FD76',\n",
       "  'privkey': '0x019239573ee339484c35ac3f2e099c9251f3e7d73aad2b178453681f3cc1f3a3',\n",
       "  'pubkey': '026f976bb141ac51ce8bec1804e1b6129617b9c78035ca70b9c6565621d8bb3e87'},\n",
       " {'path': \"m/44'/60'/0'/0/1\",\n",
       "  'address': '0x0d7265Bf1a7Bd4294DE2b6038Aa452144894fe86',\n",
       "  'privkey': '0x22dee09e01752dcd58c17fc763e4f7d7ee279bb1342461a9b77d6749f8d06e21',\n",
       "  'pubkey': '03b38fbd6e20fc525caa88371d7fcb8838107fdebca6e0986c891dcc4eb93ab665'},\n",
       " {'path': \"m/44'/60'/0'/0/2\",\n",
       "  'address': '0x2171e7ab67eF0aEe67ff2f90a4b8841F19248c79',\n",
       "  'privkey': '0xc183d0418ab4426cf61dd90b610dac605a1bf424f5e65cc7ec9fc28c338d5a9d',\n",
       "  'pubkey': '033b32d9d4bb5ec87403bb4a21dad29cdaf60d0f7457420a5591e28c3b1d7a9ff5'},\n",
       " {'path': \"m/44'/60'/0'/0/3\",\n",
       "  'address': '0x37a994f31cAae861D4D66fa8e7eBe8c6569Bc8a2',\n",
       "  'privkey': '0xdd5938db4bd2f8bccb9d20b63eb6d3b510140798ed5bd70e08b4584136696d0a',\n",
       "  'pubkey': '02b2b3d6b37421ad788045cbdb2f8bd8a8f5a2facf16ce3bef86e21dcefcfe1921'},\n",
       " {'path': \"m/44'/60'/0'/0/4\",\n",
       "  'address': '0xBA544fCca774Cc986F849920eAA1cFa14CC05c6f',\n",
       "  'privkey': '0x5e6c96aeda2eed97eb1315a33dac13ad831e63794cbf946349dfeb45d5efd8c7',\n",
       "  'pubkey': '02aa7816e9d0fc1b9bed23a5b1fb8df1ba75af8f5c68d9e915d99d44011477f701'}]"
      ]
     },
     "execution_count": 99,
     "metadata": {},
     "output_type": "execute_result"
    }
   ],
   "source": [
    "derive_wallets(mnemonic, ETH,5)"
   ]
  },
  {
   "cell_type": "code",
   "execution_count": 53,
   "metadata": {},
   "outputs": [],
   "source": [
    "# derive_wallets(coin=BTC)"
   ]
  },
  {
   "cell_type": "code",
   "execution_count": 80,
   "metadata": {},
   "outputs": [],
   "source": [
    "# Create a dictionary object called coins to store the output from `derive_wallets`.\n",
    "coins = {\n",
    "    ETH: derive_wallets(mnemonic=mnemonic, coin=ETH),\n",
    "    BTCTEST: derive_wallets(mnemonic=mnemonic,coin=BTCTEST)\n",
    "}"
   ]
  },
  {
   "cell_type": "code",
   "execution_count": 81,
   "metadata": {},
   "outputs": [
    {
     "data": {
      "text/plain": [
       "{'eth': [{'path': \"m/44'/60'/0'/0/0\",\n",
       "   'address': '0xeb98d98b858DAfa51d75c1182ed03d836057FD76',\n",
       "   'privkey': '0x019239573ee339484c35ac3f2e099c9251f3e7d73aad2b178453681f3cc1f3a3',\n",
       "   'pubkey': '026f976bb141ac51ce8bec1804e1b6129617b9c78035ca70b9c6565621d8bb3e87'},\n",
       "  {'path': \"m/44'/60'/0'/0/1\",\n",
       "   'address': '0x0d7265Bf1a7Bd4294DE2b6038Aa452144894fe86',\n",
       "   'privkey': '0x22dee09e01752dcd58c17fc763e4f7d7ee279bb1342461a9b77d6749f8d06e21',\n",
       "   'pubkey': '03b38fbd6e20fc525caa88371d7fcb8838107fdebca6e0986c891dcc4eb93ab665'},\n",
       "  {'path': \"m/44'/60'/0'/0/2\",\n",
       "   'address': '0x2171e7ab67eF0aEe67ff2f90a4b8841F19248c79',\n",
       "   'privkey': '0xc183d0418ab4426cf61dd90b610dac605a1bf424f5e65cc7ec9fc28c338d5a9d',\n",
       "   'pubkey': '033b32d9d4bb5ec87403bb4a21dad29cdaf60d0f7457420a5591e28c3b1d7a9ff5'}],\n",
       " 'btc-test': [{'path': \"m/44'/1'/0'/0/0\",\n",
       "   'address': 'mmp4evd9vuUeW2bmcPrmEmACdwyovfMTrJ',\n",
       "   'privkey': 'cTBDMVTBKaKcbneNhzCbXcsZkrwtxuVvP821rJUQD74TsWVQXZoY',\n",
       "   'pubkey': '0296855ae90a9718276f80de2e7cace5cfc8f0744066cbc4ac858944727c8017eb'},\n",
       "  {'path': \"m/44'/1'/0'/0/1\",\n",
       "   'address': 'mwWdArsuPUf3zrPBKy31V7k7qsHKNHJbKp',\n",
       "   'privkey': 'cTgpRshGcsktLBy3g5WBz1UhSduDff8WHGWnMKtNt5enqHebC722',\n",
       "   'pubkey': '0269a80437bf120584c7b7e54ac11608dd153e412ceea6e27169739e0bc6959be8'},\n",
       "  {'path': \"m/44'/1'/0'/0/2\",\n",
       "   'address': 'mxP448ghXfpQ14rB6uJt1rQZb32AH678G6',\n",
       "   'privkey': 'cNWoPuArUfMid9BF34GaTAkHAPGARJpMosKrDV67tcR8LjtLF6Rx',\n",
       "   'pubkey': '03951176fb83afa828d7e865b2f6960a85634421dcbf94a24951955852964939ea'}]}"
      ]
     },
     "execution_count": 81,
     "metadata": {},
     "output_type": "execute_result"
    }
   ],
   "source": [
    "coins"
   ]
  },
  {
   "cell_type": "code",
   "execution_count": 83,
   "metadata": {},
   "outputs": [],
   "source": [
    "eth_priv_key = coins[ETH][0]['privkey']"
   ]
  },
  {
   "cell_type": "code",
   "execution_count": 103,
   "metadata": {},
   "outputs": [],
   "source": [
    "eth_priv_key ='ac02110af36095c4d54769148b4bd099b36e5a1175cc288a74e99281399ca366'"
   ]
  },
  {
   "cell_type": "code",
   "execution_count": 104,
   "metadata": {},
   "outputs": [
    {
     "name": "stdout",
     "output_type": "stream",
     "text": [
      "['__add__', '__class__', '__contains__', '__delattr__', '__dir__', '__doc__', '__eq__', '__format__', '__ge__', '__getattribute__', '__getitem__', '__getnewargs__', '__gt__', '__hash__', '__init__', '__init_subclass__', '__iter__', '__le__', '__len__', '__lt__', '__mod__', '__mul__', '__ne__', '__new__', '__reduce__', '__reduce_ex__', '__repr__', '__rmod__', '__rmul__', '__setattr__', '__sizeof__', '__str__', '__subclasshook__', 'capitalize', 'casefold', 'center', 'count', 'encode', 'endswith', 'expandtabs', 'find', 'format', 'format_map', 'index', 'isalnum', 'isalpha', 'isascii', 'isdecimal', 'isdigit', 'isidentifier', 'islower', 'isnumeric', 'isprintable', 'isspace', 'istitle', 'isupper', 'join', 'ljust', 'lower', 'lstrip', 'maketrans', 'partition', 'replace', 'rfind', 'rindex', 'rjust', 'rpartition', 'rsplit', 'rstrip', 'split', 'splitlines', 'startswith', 'strip', 'swapcase', 'title', 'translate', 'upper', 'zfill']\n"
     ]
    }
   ],
   "source": [
    "print(dir(eth_priv_key))"
   ]
  },
  {
   "cell_type": "code",
   "execution_count": null,
   "metadata": {},
   "outputs": [],
   "source": []
  },
  {
   "cell_type": "code",
   "execution_count": 105,
   "metadata": {},
   "outputs": [],
   "source": [
    "# Create a function called `priv_key_to_account` that converts privkey strings to account objects.\n",
    "def priv_key_to_account(coin, priv_key):\n",
    "    if coin == ETH:\n",
    "        return Account.privateKeyToAccount(priv_key)\n",
    "        # eturn Account().privateKeyToAccount(priv_key)\n",
    "    if coin == BTCTEST:\n",
    "        return PrivateKeyTestnet(priv_key)\n",
    "    \n",
    "eth_acc = priv_key_to_account(ETH,eth_priv_key)\n",
    "btc_acc = priv_key_to_account(BTCTEST,btc_priv_key)"
   ]
  },
  {
   "cell_type": "code",
   "execution_count": 106,
   "metadata": {},
   "outputs": [
    {
     "name": "stdout",
     "output_type": "stream",
     "text": [
      "['__abstractmethods__', '__bytes__', '__class__', '__delattr__', '__dict__', '__dir__', '__doc__', '__eq__', '__format__', '__ge__', '__getattribute__', '__gt__', '__hash__', '__init__', '__init_subclass__', '__le__', '__lt__', '__module__', '__ne__', '__new__', '__reduce__', '__reduce_ex__', '__repr__', '__setattr__', '__sizeof__', '__slots__', '__str__', '__subclasshook__', '__weakref__', '_abc_impl', '_address', '_key_obj', '_private_key', '_publicapi', 'address', 'encrypt', 'key', 'privateKey', 'signHash', 'signTransaction', 'sign_message', 'sign_transaction']\n"
     ]
    }
   ],
   "source": [
    "print(dir(eth_acc))"
   ]
  },
  {
   "cell_type": "code",
   "execution_count": 107,
   "metadata": {},
   "outputs": [
    {
     "data": {
      "text/plain": [
       "105666666666666802999"
      ]
     },
     "execution_count": 107,
     "metadata": {},
     "output_type": "execute_result"
    }
   ],
   "source": [
    "w3.eth.getBalance(eth_acc.address)"
   ]
  },
  {
   "cell_type": "code",
   "execution_count": 108,
   "metadata": {},
   "outputs": [
    {
     "name": "stdout",
     "output_type": "stream",
     "text": [
      "0xfcbF6188d7dD9618AffcC16E1513d93c7102c609\n"
     ]
    }
   ],
   "source": [
    "print(eth_acc.address)"
   ]
  },
  {
   "cell_type": "code",
   "execution_count": 109,
   "metadata": {},
   "outputs": [],
   "source": [
    "# Create a function called `create_tx` that creates an unsigned transaction appropriate metadata.\n",
    "def create_tx(coin,account,recipient,amount):\n",
    "    # global trx_data\n",
    "    if coin ==ETH:\n",
    "        gasEstimate = w3.eth.estimateGas(\n",
    "            {\"from\": account.address, \"to\": recipient, \"value\": amount}\n",
    "        )\n",
    "        trx_data = {\n",
    "            \"to\": recipient,\n",
    "            \"from\": account.address,\n",
    "            \"value\": amount,\n",
    "            \"gasPrice\": w3.eth.gasPrice,\n",
    "            \"gas\": gasEstimate,\n",
    "            \"nonce\": w3.eth.getTransactionCount(account.address)\n",
    "        }\n",
    "        return trx_data\n",
    "    if coin == BTCTEST:\n",
    "        return PrivateKeyTestnet.prepare_transaction(account.address, [(recipient, amount, BTC)]) \n",
    "\n",
    "# Create a function called `send_tx` that calls `create_tx`, signs and sends the transaction.\n",
    "def send_trx(coin, account, recipient, amount):\n",
    "    \"\"\"call create_trx, sign the transaction, then send it to the designated network\"\"\"\n",
    "    if coin == \"eth\": \n",
    "        trx_eth = create_tx(coin,account, recipient, amount)\n",
    "        sign = account.signTransaction(trx_eth)\n",
    "        result = w3.eth.sendRawTransaction(sign.rawTransaction)\n",
    "        print(result.hex())\n",
    "        return result.hex()\n",
    "    else:\n",
    "        trx_btctest= create_tx(coin,account,recipient,amount)\n",
    "        sign_trx_btctest = account.sign_transaction(trx_btctest)\n",
    "        #from bit.network import NetworkAPI\n",
    "        NetworkAPI.broadcast_tx_testnet(sign_trx_btctest)       \n",
    "        #return sign_trx_btctest\n",
    "        return  NetworkAPI.broadcast_tx_testnet(sign_trx_btctest)"
   ]
  },
  {
   "cell_type": "code",
   "execution_count": 111,
   "metadata": {},
   "outputs": [
    {
     "name": "stdout",
     "output_type": "stream",
     "text": [
      "0x4fb7bfd77014ccd70d5255d25a6e375b45706e94b4debdcd9ef16899ab8e9080\n"
     ]
    },
    {
     "data": {
      "text/plain": [
       "'0x4fb7bfd77014ccd70d5255d25a6e375b45706e94b4debdcd9ef16899ab8e9080'"
      ]
     },
     "execution_count": 111,
     "metadata": {},
     "output_type": "execute_result"
    }
   ],
   "source": [
    "send_trx(ETH,eth_acc,'0x5C2809d36d9cd27036bb85250765f3104230ef2D',1000000000)"
   ]
  },
  {
   "cell_type": "code",
   "execution_count": null,
   "metadata": {},
   "outputs": [],
   "source": []
  },
  {
   "cell_type": "code",
   "execution_count": null,
   "metadata": {},
   "outputs": [],
   "source": []
  }
 ],
 "metadata": {
  "kernelspec": {
   "display_name": "Python [conda env:ethereum]",
   "language": "python",
   "name": "conda-env-ethereum-py"
  },
  "language_info": {
   "codemirror_mode": {
    "name": "ipython",
    "version": 3
   },
   "file_extension": ".py",
   "mimetype": "text/x-python",
   "name": "python",
   "nbconvert_exporter": "python",
   "pygments_lexer": "ipython3",
   "version": "3.7.10"
  }
 },
 "nbformat": 4,
 "nbformat_minor": 4
}
